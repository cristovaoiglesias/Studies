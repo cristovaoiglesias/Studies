{
 "cells": [
  {
   "cell_type": "markdown",
   "id": "f9cde617-bd50-40e9-b558-03ae6685ea8c",
   "metadata": {},
   "source": [
    "# ERROR FINDING QUESTIONS\n",
    "\n",
    "\n",
    "- https://csiplearninghub.com/python-error-finding-questions/\n",
    "- https://anjeevsinghacademy.com/error-finding-questions-solved-in-python/\n",
    "- https://dbgyan.school.blog/wp-content/uploads/2019/12/cs12-ch-1-3-python-rev-tour.pdf\n",
    "\n",
    "\n",
    "\n"
   ]
  },
  {
   "cell_type": "code",
   "execution_count": null,
   "id": "42bfc050-d887-466c-9985-65b2ea869d6d",
   "metadata": {},
   "outputs": [],
   "source": []
  },
  {
   "cell_type": "code",
   "execution_count": null,
   "id": "b20189af-1996-4cf8-9dad-543741d98c47",
   "metadata": {},
   "outputs": [],
   "source": []
  },
  {
   "cell_type": "code",
   "execution_count": 6,
   "id": "d492da3a-c74e-4f91-adf4-8b484691f5be",
   "metadata": {},
   "outputs": [
    {
     "name": "stdout",
     "output_type": "stream",
     "text": [
      "Guess a number between 1 and 100:  23\n"
     ]
    },
    {
     "name": "stdout",
     "output_type": "stream",
     "text": [
      "43\n",
      "Your guess was too low\n"
     ]
    },
    {
     "name": "stdout",
     "output_type": "stream",
     "text": [
      "Guess again:  45\n"
     ]
    },
    {
     "name": "stdout",
     "output_type": "stream",
     "text": [
      "43\n",
      "Your guess was too high\n"
     ]
    },
    {
     "name": "stdout",
     "output_type": "stream",
     "text": [
      "Guess again:  45\n"
     ]
    },
    {
     "name": "stdout",
     "output_type": "stream",
     "text": [
      "43\n",
      "Your guess was too high\n"
     ]
    },
    {
     "name": "stdout",
     "output_type": "stream",
     "text": [
      "Guess again:  43\n"
     ]
    },
    {
     "name": "stdout",
     "output_type": "stream",
     "text": [
      "43\n",
      "Well done, you guessed the number\n"
     ]
    }
   ],
   "source": [
    "import random\n",
    "n = random.randint(1,100)\n",
    "found = False\n",
    "guess = int(input(\"Guess a number between 1 and 100: \"))\n",
    "while not found:\n",
    "  print(n)\n",
    "  if guess < n:\n",
    "    print(\"Your guess was too low\")\n",
    "    guess = int(input(\"Guess again: \"))\n",
    "  elif guess > n:\n",
    "    print(\"Your guess was too high\")\n",
    "    guess = int(input(\"Guess again: \"))\n",
    "  else:\n",
    "    found = True\n",
    "print(\"Well done, you guessed the number\")"
   ]
  },
  {
   "cell_type": "code",
   "execution_count": 8,
   "id": "6bdd4a01-62de-49d9-b1ba-764327dc3804",
   "metadata": {},
   "outputs": [
    {
     "name": "stdout",
     "output_type": "stream",
     "text": [
      "Enter a number: 123\n"
     ]
    },
    {
     "name": "stdout",
     "output_type": "stream",
     "text": [
      "You entered a positive number\n"
     ]
    }
   ],
   "source": [
    "def execmain():\n",
    "    x=int(input(\"Enter a number:\"))\n",
    "    if abs(x)==x:\n",
    "        print(\"You entered a positive number\")\n",
    "    else:\n",
    "        x*=-1\n",
    "        print(\"Number made positive\",x)\n",
    "\n",
    "execmain() "
   ]
  },
  {
   "cell_type": "code",
   "execution_count": 11,
   "id": "a3ca78ab-97f2-4194-b7ef-368117b3854c",
   "metadata": {},
   "outputs": [
    {
     "name": "stdout",
     "output_type": "stream",
     "text": [
      "H\n",
      "0 HAPPY NEW YEAR\n",
      "A\n",
      "1 HAPPY NEW YEAR\n",
      "P\n",
      "2 HAPPY NEW YEAR\n",
      "P\n",
      "3 HAPPY NEW YEAR\n",
      "Y\n",
      "4 HAPPY NEW YEAR\n",
      " \n",
      "5 HAPPY NEW YEAR\n",
      "N\n",
      "6 HAPPY NEW YEAR\n",
      "E\n",
      "7 HAPPY NEW YEAR\n"
     ]
    }
   ],
   "source": [
    "STRING=\"HAPPY NEW YEAR\"\n",
    "for S in range(0,8):\n",
    "    print(STRING[S])\n",
    "    print(S,STRING)"
   ]
  },
  {
   "cell_type": "code",
   "execution_count": 15,
   "id": "598655a5-e0d8-40d4-806d-2e407c5c1b56",
   "metadata": {},
   "outputs": [
    {
     "name": "stdout",
     "output_type": "stream",
     "text": [
      "Enter a number 3\n"
     ]
    },
    {
     "name": "stdout",
     "output_type": "stream",
     "text": [
      "3 is ood\n"
     ]
    }
   ],
   "source": [
    "def checkval():\n",
    "    x=int(input(\"Enter a number\"))\n",
    "    if x % 2 ==0:\n",
    "        print(x,\"is even\")\n",
    "    elif x<0:\n",
    "        print(x,\"should be positive\")\n",
    "    else:\n",
    "        print(x,\"is ood\")\n",
    "\n",
    "checkval()"
   ]
  },
  {
   "cell_type": "code",
   "execution_count": 18,
   "id": "b870cbd3-59d4-4d68-852b-ff6bb60cce31",
   "metadata": {},
   "outputs": [
    {
     "name": "stdout",
     "output_type": "stream",
     "text": [
      "1\n",
      "0\n",
      "3\n",
      "2\n",
      "5\n",
      "4\n",
      "7\n",
      "6\n",
      "9\n",
      "8\n",
      "11\n",
      "10\n",
      "13\n",
      "12\n",
      "15\n",
      "14\n",
      "17\n",
      "16\n",
      "19\n",
      "18\n",
      "21\n",
      "20\n",
      "23\n",
      "22\n",
      "25\n"
     ]
    }
   ],
   "source": [
    "Val=25\n",
    "for I in range(0,Val):\n",
    "    if I%2==0:\n",
    "        print(I+1)\n",
    "    else:\n",
    "        print(I-1)\n"
   ]
  },
  {
   "cell_type": "code",
   "execution_count": 27,
   "id": "eabd7fbd-56c3-4c2a-9c35-68a6e7c2c983",
   "metadata": {},
   "outputs": [
    {
     "name": "stdout",
     "output_type": "stream",
     "text": [
      "qwe True\n"
     ]
    }
   ],
   "source": [
    "a=input(\"qwe\")"
   ]
  },
  {
   "cell_type": "code",
   "execution_count": 32,
   "id": "0577f71a-ff09-4297-b9f6-b0de2165157d",
   "metadata": {},
   "outputs": [
    {
     "name": "stdout",
     "output_type": "stream",
     "text": [
      "Number: 9\n"
     ]
    },
    {
     "name": "stdout",
     "output_type": "stream",
     "text": [
      "0\n"
     ]
    }
   ],
   "source": [
    "Num=int(input(\"Number:\"))\n",
    "Sum=0\n",
    "for i in range(10,Num,3):\n",
    "    Sum+=i\n",
    "    if i%2==0:\n",
    "        print(i*2)\n",
    "    else:\n",
    "        print(i*3)\n",
    "print(Sum)\n"
   ]
  },
  {
   "cell_type": "code",
   "execution_count": 2,
   "id": "a98b6a1b-1fe6-4327-a08c-84767e777eec",
   "metadata": {},
   "outputs": [
    {
     "name": "stdin",
     "output_type": "stream",
     "text": [
      "Value: 123\n"
     ]
    },
    {
     "name": "stdout",
     "output_type": "stream",
     "text": [
      "1\n",
      "3\n",
      "5\n",
      "7\n",
      "9\n",
      "11\n",
      "13\n",
      "15\n",
      "17\n",
      "19\n",
      "21\n",
      "23\n",
      "25\n",
      "27\n",
      "29\n",
      "31\n",
      "33\n",
      "35\n",
      "37\n",
      "39\n",
      "41\n",
      "43\n",
      "45\n",
      "47\n",
      "49\n",
      "51\n",
      "53\n",
      "55\n",
      "57\n",
      "59\n",
      "61\n",
      "63\n",
      "65\n",
      "67\n",
      "69\n",
      "71\n",
      "73\n",
      "75\n",
      "77\n",
      "79\n",
      "81\n",
      "83\n",
      "85\n",
      "87\n",
      "89\n",
      "91\n",
      "93\n",
      "95\n",
      "97\n",
      "99\n",
      "101\n",
      "103\n",
      "105\n",
      "107\n",
      "109\n",
      "111\n",
      "113\n",
      "115\n",
      "117\n",
      "119\n",
      "121\n",
      "3721\n"
     ]
    }
   ],
   "source": [
    "a=int(input(\"Value:\"))\n",
    "b=0\n",
    "for c in range(1,a,2):\n",
    "    b+=c\n",
    "    if c%2==0:\n",
    "        print(c*3)\n",
    "    else:\n",
    "        print(c)\n",
    "print(b)\n",
    "    "
   ]
  },
  {
   "cell_type": "code",
   "execution_count": 3,
   "id": "0bc2f7e8-7f4a-4ef9-a972-1af2bb8fa0d2",
   "metadata": {},
   "outputs": [
    {
     "name": "stdin",
     "output_type": "stream",
     "text": [
      "Enter a number to check: 3\n"
     ]
    },
    {
     "name": "stdout",
     "output_type": "stream",
     "text": [
      "This is ODD number\n"
     ]
    }
   ],
   "source": [
    "def checkNumber(N):\n",
    "    status= N%2\n",
    "    return status\n",
    "\n",
    "#main-code\n",
    "\n",
    "num=int(input(\"Enter a number to check:\"))\n",
    "k=checkNumber(num)\n",
    "\n",
    "if k==0:\n",
    "    print(\"This is EVEN number\")\n",
    "else:\n",
    "    print(\"This is ODD number\")\n",
    "\n"
   ]
  },
  {
   "cell_type": "code",
   "execution_count": 7,
   "id": "6b71dd93-7b7c-4301-ba56-5b76c6ed1311",
   "metadata": {},
   "outputs": [
    {
     "name": "stdout",
     "output_type": "stream",
     "text": [
      "4321\n"
     ]
    }
   ],
   "source": [
    "def reverse(num):\n",
    "    rev=0\n",
    "    while num > 0:\n",
    "        rem=num%10\n",
    "        rev=rev*10+rem\n",
    "        num=num//10\n",
    "    return rev\n",
    "\n",
    "print(reverse(1234))"
   ]
  },
  {
   "cell_type": "code",
   "execution_count": 8,
   "id": "d197c37b-ad1a-420d-9aad-b1f6991a7823",
   "metadata": {},
   "outputs": [
    {
     "data": {
      "text/plain": [
       "3"
      ]
     },
     "execution_count": 8,
     "metadata": {},
     "output_type": "execute_result"
    }
   ],
   "source": [
    "10//3"
   ]
  },
  {
   "cell_type": "code",
   "execution_count": 9,
   "id": "f0867f12-88c9-4008-82ea-fae04651f307",
   "metadata": {},
   "outputs": [
    {
     "data": {
      "text/plain": [
       "3.3333333333333335"
      ]
     },
     "execution_count": 9,
     "metadata": {},
     "output_type": "execute_result"
    }
   ],
   "source": [
    "10/3\n"
   ]
  },
  {
   "cell_type": "code",
   "execution_count": 10,
   "id": "513c9aed-e217-49c6-beb9-b7439555cc80",
   "metadata": {},
   "outputs": [
    {
     "name": "stdout",
     "output_type": "stream",
     "text": [
      "Total 30\n",
      "Total: 30\n"
     ]
    }
   ],
   "source": [
    "def sum(a1,a2):\n",
    "    T=a1+a2\n",
    "    print(\"Total\",T)\n",
    "    return T\n",
    "T=sum(10,20)\n",
    "print(\"Total:\", T)"
   ]
  },
  {
   "cell_type": "code",
   "execution_count": 12,
   "id": "47ec8899-6590-40cf-9ee3-d3b911c5c51e",
   "metadata": {},
   "outputs": [
    {
     "name": "stdout",
     "output_type": "stream",
     "text": [
      "Not Maiden\n",
      "Not Maiden\n",
      "Maiden Over\n",
      "Not Maiden\n",
      "Not Maiden\n",
      "Not Maiden\n"
     ]
    }
   ],
   "source": [
    "Runs=(10,5,0,2,4,3)\n",
    "for I in Runs:\n",
    "    if I==0:\n",
    "        print(\"Maiden Over\")\n",
    "    else:\n",
    "        print(\"Not Maiden\")"
   ]
  },
  {
   "cell_type": "code",
   "execution_count": 13,
   "id": "6780c39a-d5b7-4b90-816f-9a859fdc4a51",
   "metadata": {},
   "outputs": [
    {
     "name": "stdin",
     "output_type": "stream",
     "text": [
      "Enter a word 23\n"
     ]
    },
    {
     "name": "stdout",
     "output_type": "stream",
     "text": [
      "Not OK\n"
     ]
    }
   ],
   "source": [
    "W=input(\"Enter a word\")\n",
    "if W==\"Hello\":\n",
    "    print(\"OK\")\n",
    "else:\n",
    "    print(\"Not OK\")"
   ]
  },
  {
   "cell_type": "code",
   "execution_count": 14,
   "id": "1176633b-3d54-4c39-b772-aefdf1d0a82d",
   "metadata": {},
   "outputs": [
    {
     "name": "stdout",
     "output_type": "stream",
     "text": [
      "40\n",
      "140\n",
      "240\n",
      "340\n",
      "440\n",
      "540\n",
      "640\n",
      "740\n",
      "840\n",
      "940\n",
      "1040\n",
      "1140\n",
      "1240\n",
      "1340\n",
      "1440\n",
      "770\n",
      "870\n",
      "970\n"
     ]
    }
   ],
   "source": [
    "Number=20\n",
    "while Number <=1000:\n",
    "    if Number >= 750:\n",
    "        print(Number)\n",
    "        Number+=100\n",
    "    else:\n",
    "        print(Number*2)\n",
    "        Number+=50"
   ]
  },
  {
   "cell_type": "code",
   "execution_count": 18,
   "id": "b45938a7-e104-49e3-a485-81d385727eff",
   "metadata": {},
   "outputs": [
    {
     "name": "stdout",
     "output_type": "stream",
     "text": [
      "O\n",
      "H\n",
      "E\n",
      "L\n"
     ]
    }
   ],
   "source": [
    "String=\"HELLO\"\n",
    "for I in range(0,len(String)-1):\n",
    "    if String[I] >= \"M\":\n",
    "        print(String[I],\"*\")\n",
    "    else:\n",
    "        print(String[I-1])"
   ]
  },
  {
   "cell_type": "code",
   "execution_count": 19,
   "id": "e2718942-afff-45ed-b7ee-09f853efcc78",
   "metadata": {},
   "outputs": [
    {
     "name": "stdout",
     "output_type": "stream",
     "text": [
      "L *\n"
     ]
    }
   ],
   "source": [
    "print(String[3],\"*\")"
   ]
  },
  {
   "cell_type": "code",
   "execution_count": 26,
   "id": "522e2efa-ac65-4686-a68d-fd9e1aacd568",
   "metadata": {},
   "outputs": [
    {
     "data": {
      "text/plain": [
       "True"
      ]
     },
     "execution_count": 26,
     "metadata": {},
     "output_type": "execute_result"
    }
   ],
   "source": [
    "\"aa\" < \"ba\""
   ]
  },
  {
   "cell_type": "code",
   "execution_count": 27,
   "id": "fd70c753-7d16-469a-83cc-9092f6a1f951",
   "metadata": {},
   "outputs": [
    {
     "name": "stdin",
     "output_type": "stream",
     "text": [
      "Value: 123\n"
     ]
    },
    {
     "name": "stdout",
     "output_type": "stream",
     "text": [
      "1\n",
      "40\n",
      "7\n",
      "100\n",
      "13\n",
      "160\n",
      "19\n",
      "220\n",
      "25\n",
      "280\n",
      "31\n",
      "340\n",
      "37\n",
      "400\n",
      "43\n",
      "460\n",
      "49\n",
      "520\n",
      "55\n",
      "580\n",
      "61\n",
      "640\n",
      "67\n",
      "700\n",
      "73\n",
      "760\n",
      "79\n",
      "820\n",
      "85\n",
      "880\n",
      "91\n",
      "940\n",
      "97\n",
      "1000\n",
      "103\n",
      "1060\n",
      "109\n",
      "1120\n",
      "115\n",
      "1180\n",
      "121\n",
      "2501\n"
     ]
    }
   ],
   "source": [
    "Val = int(input(\"Value:\"))\n",
    "Adder=0\n",
    "for C in range(1,Val,3):\n",
    "    Adder+=C\n",
    "    if C%2==0:\n",
    "        print(C*10)\n",
    "    else:\n",
    "        print(C)\n",
    "print(Adder)"
   ]
  },
  {
   "cell_type": "code",
   "execution_count": 28,
   "id": "b0616fdb-faa7-48dc-9975-748e15541b86",
   "metadata": {},
   "outputs": [
    {
     "name": "stdin",
     "output_type": "stream",
     "text": [
      "Number: 123\n"
     ]
    },
    {
     "name": "stdout",
     "output_type": "stream",
     "text": [
      "20\n",
      "39\n",
      "32\n",
      "57\n",
      "44\n",
      "75\n",
      "56\n",
      "93\n",
      "68\n",
      "111\n",
      "80\n",
      "129\n",
      "92\n",
      "147\n",
      "104\n",
      "165\n",
      "116\n",
      "183\n",
      "128\n",
      "201\n",
      "140\n",
      "219\n",
      "152\n",
      "237\n",
      "164\n",
      "255\n",
      "176\n",
      "273\n",
      "188\n",
      "291\n",
      "200\n",
      "309\n",
      "212\n",
      "327\n",
      "224\n",
      "345\n",
      "236\n",
      "363\n",
      "2489\n"
     ]
    }
   ],
   "source": [
    "Num=int(input(\"Number:\"))\n",
    "Sum=0\n",
    "for i in range(10,Num,3):\n",
    "    Sum+=i\n",
    "    if i%2==0:\n",
    "        print(i*2)\n",
    "    else:\n",
    "        print(i*3)\n",
    "print(Sum)"
   ]
  },
  {
   "cell_type": "code",
   "execution_count": 29,
   "id": "895bef7f-b17d-45f6-9e24-2fe7aaf403a2",
   "metadata": {},
   "outputs": [
    {
     "name": "stdout",
     "output_type": "stream",
     "text": [
      "6\n",
      "21\n"
     ]
    }
   ],
   "source": [
    "def Tot(n): #m\n",
    "    s=0\n",
    "    for c in range(1,n+1):\n",
    "        s+=c\n",
    "    return s\n",
    "\n",
    "print(Tot(3))\n",
    "print(Tot(6))"
   ]
  },
  {
   "cell_type": "code",
   "execution_count": null,
   "id": "779a0223-6e9f-4388-8248-019fd2286592",
   "metadata": {},
   "outputs": [],
   "source": []
  },
  {
   "cell_type": "code",
   "execution_count": null,
   "id": "da75eeb0-380f-478c-9056-b452f6efe5e2",
   "metadata": {},
   "outputs": [],
   "source": []
  },
  {
   "cell_type": "code",
   "execution_count": null,
   "id": "95542731-5dfd-497b-93f6-3b679fd3c972",
   "metadata": {},
   "outputs": [],
   "source": []
  },
  {
   "cell_type": "code",
   "execution_count": null,
   "id": "519f15db-724c-4297-aadb-302d89ecaa81",
   "metadata": {},
   "outputs": [],
   "source": []
  },
  {
   "cell_type": "code",
   "execution_count": null,
   "id": "a8d15925-411d-452e-8d35-7a361260aa0f",
   "metadata": {},
   "outputs": [],
   "source": []
  },
  {
   "cell_type": "code",
   "execution_count": null,
   "id": "1e138ac0-0eae-468d-9097-13da0d400e92",
   "metadata": {},
   "outputs": [],
   "source": []
  },
  {
   "cell_type": "code",
   "execution_count": null,
   "id": "1850c395-445d-4c98-a0d3-78f4b50d35b7",
   "metadata": {},
   "outputs": [],
   "source": []
  }
 ],
 "metadata": {
  "kernelspec": {
   "display_name": "Python 3 (ipykernel)",
   "language": "python",
   "name": "python3"
  },
  "language_info": {
   "codemirror_mode": {
    "name": "ipython",
    "version": 3
   },
   "file_extension": ".py",
   "mimetype": "text/x-python",
   "name": "python",
   "nbconvert_exporter": "python",
   "pygments_lexer": "ipython3",
   "version": "3.10.16"
  }
 },
 "nbformat": 4,
 "nbformat_minor": 5
}
