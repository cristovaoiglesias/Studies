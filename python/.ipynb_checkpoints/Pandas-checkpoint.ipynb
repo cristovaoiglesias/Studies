{
 "cells": [
  {
   "cell_type": "markdown",
   "id": "82265104-9ddc-4a79-adc6-06c7d8fd70dc",
   "metadata": {},
   "source": [
    "# Pandas\n",
    "\n",
    "- https://www.tutorialspoint.com/python_pandas/index.htm"
   ]
  }
 ],
 "metadata": {
  "kernelspec": {
   "display_name": "Python 3 (ipykernel)",
   "language": "python",
   "name": "python3"
  },
  "language_info": {
   "codemirror_mode": {
    "name": "ipython",
    "version": 3
   },
   "file_extension": ".py",
   "mimetype": "text/x-python",
   "name": "python",
   "nbconvert_exporter": "python",
   "pygments_lexer": "ipython3",
   "version": "3.10.16"
  }
 },
 "nbformat": 4,
 "nbformat_minor": 5
}
