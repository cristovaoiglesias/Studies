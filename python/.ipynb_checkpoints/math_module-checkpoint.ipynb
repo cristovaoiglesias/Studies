{
 "cells": [
  {
   "cell_type": "code",
   "execution_count": null,
   "id": "689f2ab4-7304-4d17-b3f9-8fcffef362ef",
   "metadata": {},
   "outputs": [],
   "source": [
    "# Importing the math module\n",
    "import math\n",
    "\n",
    "# Basic Mathematical Functions\n",
    "print(\"math.ceil(4.2):\", math.ceil(4.2))       # 5\n",
    "print(\"math.floor(4.8):\", math.floor(4.8))     # 4\n",
    "print(\"math.fabs(-5.5):\", math.fabs(-5.5))     # 5.5\n",
    "print(\"math.factorial(5):\", math.factorial(5)) # 120\n",
    "print(\"math.fsum([0.1, 0.2, 0.3]):\", math.fsum([0.1, 0.2, 0.3])) # 0.6\n",
    "print(\"math.gcd(36, 60):\", math.gcd(36, 60))   # 12\n",
    "\n",
    "# Power and Logarithmic Functions\n",
    "print(\"math.exp(1):\", math.exp(1))              # e^1 = 2.718...\n",
    "print(\"math.log(10, 10):\", math.log(10, 10))   # 1\n",
    "print(\"math.log10(1000):\", math.log10(1000))   # 3\n",
    "print(\"math.log2(8):\", math.log2(8))           # 3\n",
    "print(\"math.pow(2, 3):\", math.pow(2, 3))       # 8.0\n",
    "print(\"math.sqrt(16):\", math.sqrt(16))         # 4.0\n",
    "\n",
    "# Trigonometric Functions\n",
    "print(\"math.sin(math.pi / 2):\", math.sin(math.pi / 2))  # 1.0\n",
    "print(\"math.cos(math.pi):\", math.cos(math.pi))          # -1.0\n",
    "print(\"math.tan(math.pi / 4):\", math.tan(math.pi / 4))  # 1.0\n",
    "print(\"math.atan2(1, 1):\", math.atan2(1, 1))            # 0.785...\n",
    "print(\"math.hypot(3, 4):\", math.hypot(3, 4))            # 5.0\n",
    "\n",
    "# Hyperbolic Functions\n",
    "print(\"math.sinh(1):\", math.sinh(1))  # 1.175...\n",
    "print(\"math.cosh(1):\", math.cosh(1))  # 1.543...\n",
    "print(\"math.tanh(1):\", math.tanh(1))  # 0.761...\n",
    "\n",
    "# Constants\n",
    "print(\"math.pi:\", math.pi)             # 3.141...\n",
    "print(\"math.e:\", math.e)               # 2.718...\n",
    "print(\"math.tau:\", math.tau)           # 6.283...\n",
    "print(\"math.inf:\", math.inf)           # Infinity\n",
    "print(\"math.nan:\", math.nan)           # NaN\n",
    "\n",
    "# Additional Functions\n",
    "print(\"math.degrees(math.pi):\", math.degrees(math.pi))   # 180.0\n",
    "print(\"math.radians(180):\", math.radians(180))          # 3.141...\n",
    "print(\"math.comb(5, 2):\", math.comb(5, 2))              # 10\n",
    "print(\"math.perm(5, 2):\", math.perm(5, 2))              # 20\n",
    "print(\"math.prod([1, 2, 3, 4]):\", math.prod([1, 2, 3, 4])) # 24\n"
   ]
  }
 ],
 "metadata": {
  "kernelspec": {
   "display_name": "Python 3 (ipykernel)",
   "language": "python",
   "name": "python3"
  },
  "language_info": {
   "codemirror_mode": {
    "name": "ipython",
    "version": 3
   },
   "file_extension": ".py",
   "mimetype": "text/x-python",
   "name": "python",
   "nbconvert_exporter": "python",
   "pygments_lexer": "ipython3",
   "version": "3.10.16"
  }
 },
 "nbformat": 4,
 "nbformat_minor": 5
}
