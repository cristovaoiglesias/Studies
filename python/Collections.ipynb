{
 "cells": [
  {
   "cell_type": "markdown",
   "metadata": {},
   "source": [
    "# Collections module\n",
    "\n",
    "The Python collections contains different type of containers. The container is an object which holds different elements and can access the elements and iterate over the object. It contains containers like list, dict, set etc to improve the functionalities of the this containers collections module was introduced.\n",
    "\n",
    "The collection module provides alternative to the built in data types such as list, tuples, dictionary and sets. It provides additional data structures and operations that are more efficient than the built-in types in certain situations.\n",
    "\n",
    "The Python collections module provides specialized container datatypes beyond the built-in types like lists, dictionaries, and tuples. Here's an overview of some of the key classes available in the collections module, along with examples demonstrating their usage:"
   ]
  },
  {
   "cell_type": "markdown",
   "metadata": {},
   "source": [
    "#### namedtuple: Factory function for creating tuple subclasses with named fields\n"
   ]
  },
  {
   "cell_type": "code",
   "execution_count": 4,
   "metadata": {},
   "outputs": [
    {
     "name": "stdout",
     "output_type": "stream",
     "text": [
      "1. namedtuple\n",
      "Point coordinates: x=10, y=20\n"
     ]
    }
   ],
   "source": [
    "# Importing the collections module\n",
    "import collections\n",
    "\n",
    "# 1. namedtuple: Factory function for creating tuple subclasses with named fields\n",
    "print(\"1. namedtuple\")\n",
    "Point2= collections.namedtuple('Point', ['x', 'y'])\n",
    "p = Point2(10, 20)\n",
    "print(f\"Point coordinates: x={p.x}, y={p.y}\")\n"
   ]
  },
  {
   "cell_type": "markdown",
   "metadata": {},
   "source": [
    "#### 2. deque: List-like container with fast appends and pops on either end"
   ]
  },
  {
   "cell_type": "code",
   "execution_count": 91,
   "metadata": {},
   "outputs": [
    {
     "name": "stdout",
     "output_type": "stream",
     "text": [
      "\n",
      "2. deque\n",
      "Deque after appends: deque(['z', 'a', 'b', 'c', 'd'])\n",
      "Deque after pops: deque(['a', 'b', 'c'])\n",
      "Left Rotation Of deque : deque([2, 3, 4, 1])\n",
      "Right Rotation Of deque : deque([4, 1, 2, 3])\n"
     ]
    },
    {
     "data": {
      "text/plain": [
       "1"
      ]
     },
     "execution_count": 91,
     "metadata": {},
     "output_type": "execute_result"
    }
   ],
   "source": [
    "# 2. deque: List-like container with fast appends and pops on either end\n",
    "print(\"\\n2. deque\")\n",
    "d = collections.deque(['a', 'b', 'c'])\n",
    "d.append('d')           # Add to the right\n",
    "d.appendleft('z')       # Add to the left\n",
    "print(f\"Deque after appends: {d}\")\n",
    "d.pop()                 # Remove from the right\n",
    "d.popleft()             # Remove from the left\n",
    "print(f\"Deque after pops: {d}\")\n",
    "\n",
    "from collections import deque\n",
    "#defined deque\n",
    "deque_1=deque([1,2,3,4])\n",
    "#left rotation of deque \n",
    "deque_1.rotate(-1)\n",
    "print(\"Left Rotation Of deque :\",deque_1)\n",
    "#right rotating of deque\n",
    "deque_1.rotate(2)\n",
    "print(\"Right Rotation Of deque :\",deque_1)\n",
    "deque_1[1]\n",
    "\n"
   ]
  },
  {
   "cell_type": "code",
   "execution_count": 103,
   "metadata": {},
   "outputs": [
    {
     "data": {
      "text/plain": [
       "1"
      ]
     },
     "execution_count": 103,
     "metadata": {},
     "output_type": "execute_result"
    }
   ],
   "source": [
    "[1,2,3,4].index(2)"
   ]
  },
  {
   "cell_type": "code",
   "execution_count": 3,
   "metadata": {},
   "outputs": [
    {
     "name": "stdout",
     "output_type": "stream",
     "text": [
      "Initial deque:\n",
      "deque([1, 2, 3, 4, 5])\n",
      "\n",
      "1. append(x): Add x to the right side of the deque\n",
      "After append(6): deque([1, 2, 3, 4, 5, 6])\n",
      "\n",
      "2. appendleft(x): Add x to the left side of the deque\n",
      "After appendleft(0): deque([0, 1, 2, 3, 4, 5, 6])\n",
      "\n",
      "3. clear(): Remove all elements from the deque\n",
      "After clear(): deque([])\n",
      "\n",
      "4. copy(): Create a shallow copy of the deque\n",
      "Original deque: deque([1, 2, 3, 4, 5]), Copied deque: deque([1, 2, 3, 4, 5])\n",
      "\n",
      "5. count(x): Count the number of deque elements equal to x\n",
      "Count of 3 in deque: 1\n",
      "\n",
      "6. extend(iterable): Extend the right side of the deque\n",
      "After extend([6, 7]): deque([1, 2, 3, 4, 5, 6, 7])\n",
      "\n",
      "7. extendleft(iterable): Extend the left side of the deque\n",
      "After extendleft([0, -1]): deque([-1, 0, 1, 2, 3, 4, 5, 6, 7])\n",
      "\n",
      "8. index(x[, start[, stop]]): Find the position of x in the deque\n",
      "Index of 3: 4\n",
      "\n",
      "9. insert(i, x): Insert x at position i\n",
      "After insert(2, 99): deque([-1, 0, 99, 1, 2, 3, 4, 5, 6, 7])\n",
      "\n",
      "10. pop(): Remove and return an element from the right side\n",
      "After pop(): deque([-1, 0, 99, 1, 2, 3, 4, 5, 6]), Popped element: 7\n",
      "\n",
      "11. popleft(): Remove and return an element from the left side\n",
      "After popleft(): deque([0, 99, 1, 2, 3, 4, 5, 6]), Popped element: -1\n",
      "\n",
      "12. rotate(n): Rotate the deque n steps to the right (or left if n is negative)\n",
      "After rotate(2): deque([5, 6, 0, 99, 1, 2, 3, 4])\n",
      "After rotate(-1): deque([6, 0, 99, 1, 2, 3, 4, 5])\n",
      "\n",
      "13. maxlen: Maximum size of a deque\n",
      "Maximum length of limited deque: 5\n",
      "\n",
      "14. remove(value): Remove the first occurrence of value\n",
      "After remove(3): deque([6, 0, 99, 1, 2, 4, 5])\n",
      "\n",
      "15. reverse(): Reverse the elements of the deque in place\n",
      "After reverse(): deque([5, 4, 2, 1, 99, 0, 6])\n"
     ]
    }
   ],
   "source": [
    "# Importing deque from collections\n",
    "from collections import deque\n",
    "\n",
    "# Creating a deque\n",
    "print(\"Initial deque:\")\n",
    "d = deque([1, 2, 3, 4, 5])\n",
    "print(d)\n",
    "\n",
    "# 1. append(x)\n",
    "print(\"\\n1. append(x): Add x to the right side of the deque\")\n",
    "d.append(6)\n",
    "print(f\"After append(6): {d}\")\n",
    "\n",
    "# 2. appendleft(x)\n",
    "print(\"\\n2. appendleft(x): Add x to the left side of the deque\")\n",
    "d.appendleft(0)\n",
    "print(f\"After appendleft(0): {d}\")\n",
    "\n",
    "# 3. clear()\n",
    "print(\"\\n3. clear(): Remove all elements from the deque\")\n",
    "d.clear()\n",
    "print(f\"After clear(): {d}\")\n",
    "\n",
    "# Reinitialize deque for further examples\n",
    "d = deque([1, 2, 3, 4, 5])\n",
    "\n",
    "# 4. copy()\n",
    "print(\"\\n4. copy(): Create a shallow copy of the deque\")\n",
    "d_copy = d.copy()\n",
    "print(f\"Original deque: {d}, Copied deque: {d_copy}\")\n",
    "\n",
    "# 5. count(x)\n",
    "print(\"\\n5. count(x): Count the number of deque elements equal to x\")\n",
    "print(f\"Count of 3 in deque: {d.count(3)}\")\n",
    "\n",
    "# 6. extend(iterable)\n",
    "print(\"\\n6. extend(iterable): Extend the right side of the deque\")\n",
    "d.extend([6, 7])\n",
    "print(f\"After extend([6, 7]): {d}\")\n",
    "\n",
    "# 7. extendleft(iterable)\n",
    "print(\"\\n7. extendleft(iterable): Extend the left side of the deque\")\n",
    "d.extendleft([0, -1])\n",
    "print(f\"After extendleft([0, -1]): {d}\")\n",
    "\n",
    "# 8. index(x[, start[, stop]])\n",
    "print(\"\\n8. index(x[, start[, stop]]): Find the position of x in the deque\")\n",
    "print(f\"Index of 3: {d.index(3)}\")\n",
    "\n",
    "# 9. insert(i, x)\n",
    "print(\"\\n9. insert(i, x): Insert x at position i\")\n",
    "d.insert(2, 99)\n",
    "print(f\"After insert(2, 99): {d}\")\n",
    "\n",
    "# 10. pop()\n",
    "print(\"\\n10. pop(): Remove and return an element from the right side\")\n",
    "popped = d.pop()\n",
    "print(f\"After pop(): {d}, Popped element: {popped}\")\n",
    "\n",
    "# 11. popleft()\n",
    "print(\"\\n11. popleft(): Remove and return an element from the left side\")\n",
    "popped_left = d.popleft()\n",
    "print(f\"After popleft(): {d}, Popped element: {popped_left}\")\n",
    "\n",
    "# 12. rotate(n=1)\n",
    "print(\"\\n12. rotate(n): Rotate the deque n steps to the right (or left if n is negative)\")\n",
    "d.rotate(2)\n",
    "print(f\"After rotate(2): {d}\")\n",
    "d.rotate(-1)\n",
    "print(f\"After rotate(-1): {d}\")\n",
    "\n",
    "# 13. maxlen\n",
    "print(\"\\n13. maxlen: Maximum size of a deque\")\n",
    "limited_d = deque([1, 2, 3], maxlen=5)\n",
    "print(f\"Maximum length of limited deque: {limited_d.maxlen}\")\n",
    "\n",
    "# 14. remove(value)\n",
    "print(\"\\n14. remove(value): Remove the first occurrence of value\")\n",
    "d.remove(3)\n",
    "print(f\"After remove(3): {d}\")\n",
    "\n",
    "# 15. reverse()\n",
    "print(\"\\n15. reverse(): Reverse the elements of the deque in place\")\n",
    "d.reverse()\n",
    "print(f\"After reverse(): {d}\")\n"
   ]
  },
  {
   "cell_type": "markdown",
   "metadata": {},
   "source": [
    "#### 3. ChainMap: Dict-like class for creating a single view of multiple mappings"
   ]
  },
  {
   "cell_type": "code",
   "execution_count": 4,
   "metadata": {},
   "outputs": [
    {
     "name": "stdout",
     "output_type": "stream",
     "text": [
      "\n",
      "3. ChainMap\n",
      "ChainMap: ChainMap({'one': 1, 'two': 2}, {'three': 3, 'four': 4})\n",
      "Access 'three' from ChainMap: 3\n"
     ]
    }
   ],
   "source": [
    "# 3. ChainMap: Dict-like class for creating a single view of multiple mappings\n",
    "print(\"\\n3. ChainMap\")\n",
    "dict1 = {'one': 1, 'two': 2}\n",
    "dict2 = {'three': 3, 'four': 4}\n",
    "chain = collections.ChainMap(dict1, dict2)\n",
    "print(f\"ChainMap: {chain}\")\n",
    "print(f\"Access 'three' from ChainMap: {chain['three']}\")"
   ]
  },
  {
   "cell_type": "code",
   "execution_count": 5,
   "metadata": {},
   "outputs": [
    {
     "name": "stdout",
     "output_type": "stream",
     "text": [
      "light\n",
      "Arial\n"
     ]
    }
   ],
   "source": [
    "from collections import ChainMap\n",
    "default_settings = {'theme': 'dark', 'font': 'Arial', 'size': 12}\n",
    "user_settings = {'theme': 'light', 'size': 14}\n",
    "# ChainMap gives priority to the first dictionary (user_settings)\n",
    "settings = ChainMap(user_settings, default_settings)\n",
    "print(settings['theme'])  \n",
    "print(settings['font'])   "
   ]
  },
  {
   "cell_type": "code",
   "execution_count": 6,
   "metadata": {},
   "outputs": [
    {
     "name": "stdout",
     "output_type": "stream",
     "text": [
      "2\n",
      "[{'a': 1, 'b': 2}, {'b': 3, 'c': 4}]\n",
      "3\n"
     ]
    }
   ],
   "source": [
    "from collections import ChainMap\n",
    "# Two dictionaries\n",
    "dict1 = {'a': 1, 'b': 2}\n",
    "dict2 = {'b': 3, 'c': 4}\n",
    "# Create a ChainMap\n",
    "combined = ChainMap(dict1, dict2)\n",
    "print(combined['b'])  \n",
    "# Accessing the maps attribute\n",
    "print(combined.maps)  \n",
    "# Updating the order of dictionaries in the ChainMap\n",
    "combined.maps = [dict2, dict1]\n",
    "print(combined['b']) "
   ]
  },
  {
   "cell_type": "code",
   "execution_count": 7,
   "metadata": {},
   "outputs": [
    {
     "name": "stdout",
     "output_type": "stream",
     "text": [
      "All the ChainMap contents are : \n",
      "[{'Program1': 'Python', 'Program2': 'HTML'}, {'Program3': ' Java', 'Program4': 'C'}]\n",
      "All keys of ChainMap are : \n",
      "['Program3', 'Program4', 'Program1', 'Program2']\n",
      "All values of ChainMap are : \n",
      "[' Java', 'C', 'Python', 'HTML']\n"
     ]
    }
   ],
   "source": [
    "# keys(), values() and maps \n",
    "# importing collections for ChainMap operations \n",
    "import collections \n",
    "# initializing dictionaries \n",
    "dic1 = { 'Program1' : 'Python', 'Program2' : 'HTML' } \n",
    "dic2 = { 'Program3' : ' Java', 'Program4' : 'C' } \n",
    "# initializing ChainMap \n",
    "chain = collections.ChainMap(dic1, dic2) \n",
    "# printing chainMap using maps \n",
    "print (\"All the ChainMap contents are : \") \n",
    "print (chain.maps) \n",
    "# printing keys using keys() \n",
    "print (\"All keys of ChainMap are : \") \n",
    "print (list(chain.keys())) \n",
    "# printing keys using keys() \n",
    "print (\"All values of ChainMap are : \") \n",
    "print (list(chain.values()))"
   ]
  },
  {
   "cell_type": "code",
   "execution_count": 19,
   "metadata": {},
   "outputs": [
    {
     "name": "stdout",
     "output_type": "stream",
     "text": [
      "ChainMap(['a', 'b', 'c', 'd'], [1, 2, 3, 4, 5])\n",
      "ChainMap(['one', 'two', 'three'], ['a', 'b', 'c', 'd'], [1, 2, 3, 4, 5])\n"
     ]
    }
   ],
   "source": [
    "# The new_child() method is used to add a new dictionary or iterable at the beginning of the ChainMap().\n",
    "from collections import ChainMap \t\n",
    "list1 = ['a','b','c','d']\n",
    "list2 = [1, 2, 3, 4,5]\n",
    "list3 = ['one','two','three']\n",
    "chain_list = ChainMap(list1, list2) \n",
    "print(chain_list)\n",
    "print(chain_list.new_child(list3))"
   ]
  },
  {
   "cell_type": "code",
   "execution_count": 102,
   "metadata": {},
   "outputs": [
    {
     "data": {
      "text/plain": [
       "'123 12'"
      ]
     },
     "execution_count": 102,
     "metadata": {},
     "output_type": "execute_result"
    }
   ],
   "source": [
    "len([\"dsfgsdfg\"])\n",
    "\n",
    "input() "
   ]
  },
  {
   "cell_type": "code",
   "execution_count": 9,
   "metadata": {},
   "outputs": [
    {
     "name": "stdout",
     "output_type": "stream",
     "text": [
      "Original ChainMap - ChainMap(['a', 'b', 'c', 'd'], [1, 2, 3])\n",
      "Reversed maps - [[1, 2, 3], ['a', 'b', 'c', 'd']]\n"
     ]
    }
   ],
   "source": [
    "from collections import ChainMap\n",
    "# Define multiple lists\n",
    "list1 = ['a', 'b', 'c', 'd']\n",
    "list2 = [1, 2, 3]\n",
    "list3 = ['one', 'two']\n",
    "\n",
    "# Create a ChainMap with the first two lists\n",
    "chain_list = ChainMap(list1, list2) \n",
    "\n",
    "# Print the initial ChainMap\n",
    "print(\"Original ChainMap -\", chain_list)\n",
    "\n",
    "# Reverse the order of maps in the original ChainMap (note: reversed() does not modify the list)\n",
    "reversed_maps = list(reversed(chain_list.maps))  # This creates a reversed list\n",
    "\n",
    "# Print the reversed order of maps (for demonstration)\n",
    "print(\"Reversed maps -\", reversed_maps)"
   ]
  },
  {
   "cell_type": "markdown",
   "metadata": {},
   "source": [
    "#### 4. Counter: Dict subclass for counting hashable objects\n"
   ]
  },
  {
   "cell_type": "code",
   "execution_count": 8,
   "metadata": {},
   "outputs": [
    {
     "name": "stdout",
     "output_type": "stream",
     "text": [
      "\n",
      "4. Counter\n",
      "Word counts: Counter({'apple': 3, 'banana': 2, 'orange': 1})\n",
      "Most common word: [('apple', 3)]\n"
     ]
    }
   ],
   "source": [
    "# 4. Counter: Dict subclass for counting hashable objects\n",
    "print(\"\\n4. Counter\")\n",
    "word_list = ['apple', 'banana', 'apple', 'orange', 'banana', 'apple']\n",
    "counter = collections.Counter(word_list)\n",
    "print(f\"Word counts: {counter}\")\n",
    "print(f\"Most common word: {counter.most_common(1)}\")"
   ]
  },
  {
   "cell_type": "markdown",
   "metadata": {},
   "source": [
    "#### 4.1. Creating a Counter"
   ]
  },
  {
   "cell_type": "code",
   "execution_count": 9,
   "metadata": {},
   "outputs": [
    {
     "name": "stdout",
     "output_type": "stream",
     "text": [
      "1. Creating a Counter\n",
      "Counter from string: Counter({'t': 3, 'o': 2, 'i': 2, 'u': 1, 'r': 1, 'a': 1, 'l': 1, 's': 1, 'p': 1, 'n': 1})\n",
      "Counter from list: Counter({3: 3, 2: 2, 1: 1, 4: 1})\n",
      "Counter({'x': 6, 'z': 3, 'y': 1})\n",
      "Counter({'z': 5, 'y': 3, 'x': 2})\n",
      "Counter({'x': 5, 'z': 3, 'y': 2})\n"
     ]
    }
   ],
   "source": [
    "# Importing Counter from collections\n",
    "from collections import Counter\n",
    "\n",
    "# 1. Creating a Counter\n",
    "print(\"1. Creating a Counter\")\n",
    "# Count elements in a string\n",
    "counter1 = Counter(\"tutorialspoint\")\n",
    "print(f\"Counter from string: {counter1}\")\n",
    "# Count elements in a list\n",
    "counter2 = Counter([1, 2, 2, 3, 3, 3, 4])\n",
    "print(f\"Counter from list: {counter2}\")\n",
    "\n",
    "# With sequence of items \n",
    "print(Counter(['x','x','z','x','y','z','x','x','z','x']))\n",
    "# with dictionary\n",
    "print(Counter({'y':3, 'z':5, 'x':2}))\n",
    "# with keyword arguments\n",
    "print(Counter(z=3, x=5, y=2))"
   ]
  },
  {
   "cell_type": "markdown",
   "metadata": {},
   "source": [
    "#### 4.2. Accessing Counter Elements and Counter Values"
   ]
  },
  {
   "cell_type": "code",
   "execution_count": 10,
   "metadata": {},
   "outputs": [
    {
     "name": "stdout",
     "output_type": "stream",
     "text": [
      "\n",
      "2. Accessing Counter Elements\n",
      "Count of 't' in 'tutorialspoint': 3\n",
      "Count of 3 in the list: 3\n"
     ]
    }
   ],
   "source": [
    "# 2. Accessing Counter Elements\n",
    "print(\"\\n2. Accessing Counter Elements\")\n",
    "# Access the count of a specific element\n",
    "print(f\"Count of 't' in 'tutorialspoint': {counter1['t']}\")\n",
    "print(f\"Count of 3 in the list: {counter2[3]}\")"
   ]
  },
  {
   "cell_type": "code",
   "execution_count": 11,
   "metadata": {},
   "outputs": [
    {
     "name": "stdout",
     "output_type": "stream",
     "text": [
      "dict_keys(['x', 'y', 'z', 'm', 'n', 'o'])\n",
      "dict_values([2, 2, 2, 2, 1, 1])\n",
      "dict_items([('x', 2), ('y', 2), ('z', 2), ('m', 2), ('n', 1), ('o', 1)])\n"
     ]
    },
    {
     "data": {
      "text/plain": [
       "2"
      ]
     },
     "execution_count": 11,
     "metadata": {},
     "output_type": "execute_result"
    }
   ],
   "source": [
    "from collections import Counter\n",
    "#defined Counter\n",
    "my_counter = Counter('xyzmnoxyzm')\n",
    "#Finding key values\n",
    "print(my_counter.keys())\n",
    "#Finding values \n",
    "print(my_counter.values())\n",
    "#Finding items \n",
    "print(my_counter.items()) \n",
    "\n",
    "list(my_counter.values())[1] "
   ]
  },
  {
   "cell_type": "markdown",
   "metadata": {},
   "source": [
    "#### 4.3. Updating a Counter\n"
   ]
  },
  {
   "cell_type": "code",
   "execution_count": 23,
   "metadata": {},
   "outputs": [
    {
     "name": "stdout",
     "output_type": "stream",
     "text": [
      "\n",
      "3. Updating a Counter\n",
      "Counter after updating with 'python': Counter({'t': 13, 'o': 12, 'p': 11, 'n': 11, 'y': 11, 'h': 11, 'u': 1, 'r': 1, 'i': 1, 'a': 1, 'l': 1, 's': 1})\n",
      "Counter({2: 3, 6: 3, 4: 2})\n",
      "Counter({2: 4, 6: 4, 4: 3})\n"
     ]
    },
    {
     "data": {
      "text/plain": [
       "Counter({4: 4, 6: 4, 2: 0})"
      ]
     },
     "execution_count": 23,
     "metadata": {},
     "output_type": "execute_result"
    }
   ],
   "source": [
    "# 3. Updating a Counter\n",
    "print(\"\\n3. Updating a Counter\")\n",
    "# Adding new elements or updating existing ones\n",
    "counter1.update(\"python\")\n",
    "print(f\"Counter after updating with 'python': {counter1}\")\n",
    "\n",
    "from collections import Counter\n",
    "#empty counter\n",
    "var1 = Counter()\n",
    "#updated with elements\n",
    "var1.update([2,4,6,2,4,6,2,6])\n",
    "print(var1)\n",
    "var1.update([2, 6, 4])\n",
    "print(var1)\n",
    "\n",
    "[2,4,6,2,4,6,2,6]\n",
    "\n",
    "ccc=Counter([2,4,6,2,4,6,2,6])\n",
    "ccc.update([2, 6, 4,4])\n",
    "\n",
    "4 in ccc\n",
    "\n",
    "ccc[2]=0\n",
    "ccc"
   ]
  },
  {
   "cell_type": "markdown",
   "metadata": {},
   "source": [
    "#### 4.4. Subtracting Elements\n"
   ]
  },
  {
   "cell_type": "code",
   "execution_count": 13,
   "metadata": {},
   "outputs": [
    {
     "name": "stdout",
     "output_type": "stream",
     "text": [
      "\n",
      "4. Subtracting Elements\n",
      "Counter after subtracting 'point': Counter({'t': 3, 'o': 2, 'u': 1, 'r': 1, 'i': 1, 'a': 1, 'l': 1, 's': 1, 'p': 1, 'n': 1, 'y': 1, 'h': 1})\n",
      "Counter({'C': 6, 'B': 0, 'A': -6})\n"
     ]
    }
   ],
   "source": [
    "\n",
    "# 4. Subtracting Elements\n",
    "print(\"\\n4. Subtracting Elements\")\n",
    "# Subtract counts of elements\n",
    "counter1.subtract(\"point\")\n",
    "print(f\"Counter after subtracting 'point': {counter1}\")\n",
    "\n",
    "from collections import Counter\n",
    "#defined counters\n",
    "c1 = Counter(A=4, B=3, C=10)\n",
    "c2 = Counter(A=10, B=3, C=4)\n",
    "#subtraction of c2 from cl\n",
    "c1.subtract(c2)\n",
    "print(c1)"
   ]
  },
  {
   "cell_type": "markdown",
   "metadata": {},
   "source": [
    "#### 4.5. Elements() Method\n"
   ]
  },
  {
   "cell_type": "code",
   "execution_count": 41,
   "metadata": {},
   "outputs": [
    {
     "name": "stdout",
     "output_type": "stream",
     "text": [
      "\n",
      "5. elements() Method\n",
      "All elements from counter2:\n",
      "[1, 2, 2, 3, 3, 3, 4]\n"
     ]
    }
   ],
   "source": [
    "\n",
    "# 5. Elements() Method\n",
    "print(\"\\n5. elements() Method\")\n",
    "# Get all elements as an iterator\n",
    "print(\"All elements from counter2:\")\n",
    "print(list(counter2.elements()))"
   ]
  },
  {
   "cell_type": "markdown",
   "metadata": {},
   "source": [
    "#### 4.6. Most Common Elements\n"
   ]
  },
  {
   "cell_type": "code",
   "execution_count": 63,
   "metadata": {},
   "outputs": [
    {
     "name": "stdout",
     "output_type": "stream",
     "text": [
      "\n",
      "6. most_common() Method\n",
      "Two most common elements in counter1: [('t', 3), ('o', 2)]\n",
      "Most common elements of the tuple : [(2, 3), (13, 2)]\n"
     ]
    }
   ],
   "source": [
    "# 6. Most Common Elements\n",
    "print(\"\\n6. most_common() Method\")\n",
    "# Get the most common elements\n",
    "print(f\"Two most common elements in counter1: {counter1.most_common(2)}\")\n",
    "\n",
    "from collections import Counter\n",
    "tup1 = (2,56,13,4,2,10,13,2, )\n",
    "count = Counter(tup1).most_common(2)\n",
    "print(\"Most common elements of the tuple :\", count)"
   ]
  },
  {
   "cell_type": "markdown",
   "metadata": {},
   "source": [
    "#### 4.7. Arithmetic and Set Operations\n"
   ]
  },
  {
   "cell_type": "code",
   "execution_count": 43,
   "metadata": {},
   "outputs": [
    {
     "name": "stdout",
     "output_type": "stream",
     "text": [
      "\n",
      "7. Arithmetic and Set Operations\n",
      "Addition of counters: Counter({'a': 4, 'b': 3})\n",
      "Subtraction of counters: Counter({'a': 2})\n",
      "Intersection of counters: Counter({'a': 1, 'b': 1})\n",
      "Union of counters: Counter({'a': 3, 'b': 2})\n"
     ]
    }
   ],
   "source": [
    "# 7. Arithmetic and Set Operations\n",
    "print(\"\\n7. Arithmetic and Set Operations\")\n",
    "counter3 = Counter(a=3, b=1)\n",
    "counter4 = Counter(a=1, b=2)\n",
    "# Addition of counters\n",
    "print(f\"Addition of counters: {counter3 + counter4}\")\n",
    "# Subtraction of counters\n",
    "print(f\"Subtraction of counters: {counter3 - counter4}\")\n",
    "# Intersection (min of counts)\n",
    "print(f\"Intersection of counters: {counter3 & counter4}\")\n",
    "# Union (max of counts)\n",
    "print(f\"Union of counters: {counter3 | counter4}\")"
   ]
  },
  {
   "cell_type": "markdown",
   "metadata": {},
   "source": [
    "#### 4.8. Deleting Elements\n"
   ]
  },
  {
   "cell_type": "code",
   "execution_count": 44,
   "metadata": {},
   "outputs": [
    {
     "name": "stdout",
     "output_type": "stream",
     "text": [
      "\n",
      "8. Deleting Elements\n",
      "Counter after deleting element '2': Counter({3: 3, 1: 1, 4: 1})\n"
     ]
    }
   ],
   "source": [
    "# 8. Deleting Elements\n",
    "print(\"\\n8. Deleting Elements\")\n",
    "# Remove an element\n",
    "del counter2[2]\n",
    "print(f\"Counter after deleting element '2': {counter2}\")\n"
   ]
  },
  {
   "cell_type": "markdown",
   "metadata": {},
   "source": [
    "#### 4.9. Clear Method\n"
   ]
  },
  {
   "cell_type": "code",
   "execution_count": 45,
   "metadata": {},
   "outputs": [
    {
     "name": "stdout",
     "output_type": "stream",
     "text": [
      "\n",
      "9. clear() Method\n",
      "Counter after clearing: Counter()\n"
     ]
    }
   ],
   "source": [
    "\n",
    "# 9. Clear Method\n",
    "print(\"\\n9. clear() Method\")\n",
    "# Clear all elements\n",
    "counter2.clear()\n",
    "print(f\"Counter after clearing: {counter2}\")\n"
   ]
  },
  {
   "cell_type": "markdown",
   "metadata": {},
   "source": [
    "#### 4.10. Converting Counter to Dictionary\n"
   ]
  },
  {
   "cell_type": "code",
   "execution_count": 46,
   "metadata": {},
   "outputs": [
    {
     "name": "stdout",
     "output_type": "stream",
     "text": [
      "\n",
      "10. Converting Counter to Dictionary\n",
      "Counter as a dictionary: {'t': 3, 'u': 1, 'o': 2, 'r': 1, 'i': 1, 'a': 1, 'l': 1, 's': 1, 'p': 1, 'n': 1, 'y': 1, 'h': 1}\n"
     ]
    }
   ],
   "source": [
    "# 10. Converting Counter to Dictionary\n",
    "print(\"\\n10. Converting Counter to Dictionary\")\n",
    "# Convert a Counter object to a dictionary\n",
    "counter_dict = dict(counter1)\n",
    "print(f\"Counter as a dictionary: {counter_dict}\")"
   ]
  },
  {
   "cell_type": "markdown",
   "metadata": {},
   "source": [
    "#### 4.11. Creating a Counter from a Dictionary"
   ]
  },
  {
   "cell_type": "code",
   "execution_count": 47,
   "metadata": {},
   "outputs": [
    {
     "name": "stdout",
     "output_type": "stream",
     "text": [
      "\n",
      "11. Creating a Counter from a Dictionary\n",
      "Counter from dictionary: Counter({'y': 4, 'x': 3, 'z': 1})\n"
     ]
    }
   ],
   "source": [
    "# 11. Creating a Counter from a Dictionary\n",
    "print(\"\\n11. Creating a Counter from a Dictionary\")\n",
    "# Initialize a Counter using a dictionary\n",
    "dict_data = {'x': 3, 'y': 4, 'z': 1}\n",
    "counter_from_dict = Counter(dict_data)\n",
    "print(f\"Counter from dictionary: {counter_from_dict}\")"
   ]
  },
  {
   "cell_type": "markdown",
   "metadata": {},
   "source": []
  },
  {
   "cell_type": "markdown",
   "metadata": {},
   "source": [
    "#### 5. OrderedDict: Dict subclass that remembers the order entries were added\n"
   ]
  },
  {
   "cell_type": "code",
   "execution_count": 37,
   "metadata": {},
   "outputs": [
    {
     "name": "stdout",
     "output_type": "stream",
     "text": [
      "\n",
      "5. OrderedDict\n",
      "OrderedDict: OrderedDict([('first', 1), ('second', 2), ('third', 3)])\n",
      "a : 1\n",
      "b : 2\n",
      "c : 3\n",
      "d : 43\n"
     ]
    },
    {
     "data": {
      "text/plain": [
       "''"
      ]
     },
     "execution_count": 37,
     "metadata": {},
     "output_type": "execute_result"
    }
   ],
   "source": [
    "# 5. OrderedDict: Dict subclass that remembers the order entries were added\n",
    "print(\"\\n5. OrderedDict\")\n",
    "ordered_dict = collections.OrderedDict()\n",
    "ordered_dict['first'] = 1\n",
    "ordered_dict['second'] = 2\n",
    "ordered_dict['third'] = 3\n",
    "print(f\"OrderedDict: {ordered_dict}\")\n",
    "\n",
    "\n",
    "from collections import OrderedDict\n",
    "od = OrderedDict()\n",
    "od['a'] = 1\n",
    "od['b'] = 2\n",
    "od['c'] = 3\n",
    "od['d'] = 4\n",
    "od['d'] = 43\n",
    "\n",
    "for key, value in od.items():\n",
    "    print(key,\":\",value)\n",
    "\n",
    "\n",
    "\n",
    "od = OrderedDict()\n",
    "od.values()\n",
    "\n",
    "\" \".join(list(map(str, list(od.values()))))\n",
    "                       \n",
    "\n",
    "                       \n",
    "# for i in range(4):\n",
    "#     print(i)\n",
    "\n",
    "# od = OrderedDict()\n",
    "\n",
    "# 'f' in od\n",
    "\n",
    "# item = \"BANANA FRIES 12\".split()\n",
    "# name=\" \".join(item[0:len(item)-1])\n",
    "# name\n",
    "\n",
    "\n"
   ]
  },
  {
   "cell_type": "markdown",
   "metadata": {},
   "source": [
    "#### 6. defaultdict: Dict subclass that calls a factory function to supply missing values\n"
   ]
  },
  {
   "cell_type": "code",
   "execution_count": 88,
   "metadata": {},
   "outputs": [
    {
     "name": "stdout",
     "output_type": "stream",
     "text": [
      "\n",
      "6. defaultdict\n",
      "defaultdict: defaultdict(<class 'int'>, {'apple': 1, 'banana': 2})\n",
      "Accessing a missing key returns default int value: 0\n",
      "defaultdict(<function default at 0x7e5cae1f7d00>, {1: 'one', 2: 'two', 3: 'Three'})\n",
      "Three\n",
      "('python', ['awesome', 'language'])\n",
      "('something-else', ['not relevant'])\n"
     ]
    },
    {
     "data": {
      "text/plain": [
       "['awesome', 'language']"
      ]
     },
     "execution_count": 88,
     "metadata": {},
     "output_type": "execute_result"
    }
   ],
   "source": [
    "# 6. defaultdict: Dict subclass that calls a factory function to supply missing values\n",
    "print(\"\\n6. defaultdict\")\n",
    "default_dict = collections.defaultdict(int)\n",
    "default_dict['apple'] += 1\n",
    "default_dict['banana'] += 2\n",
    "print(f\"defaultdict: {default_dict}\")\n",
    "print(f\"Accessing a missing key returns default int value: {default_dict['cherry']}\")\n",
    "\n",
    "\n",
    "from collections import defaultdict\n",
    "def default():\n",
    "    return 'Key not found'\n",
    "\n",
    "dic1 = defaultdict(default)\n",
    "dic1[1] = 'one'\n",
    "dic1[2] = 'two'\n",
    "dic1[3] = 'Three'\n",
    "dic1[3] = 'Three'\n",
    "print(dic1)\n",
    "print(dic1[3])\n",
    "\n",
    "from collections import defaultdict\n",
    "d = defaultdict(list)\n",
    "d['python'].append(\"awesome\")\n",
    "d['something-else'].append(\"not relevant\")\n",
    "d['python'].append(\"language\")\n",
    "for i in d.items():\n",
    "    print(i)\n",
    "\n",
    "\n",
    "d['python'] "
   ]
  },
  {
   "cell_type": "markdown",
   "metadata": {},
   "source": [
    "#### 7. UserDict: Wrapper around dictionary objects for easier dict subclassing\n"
   ]
  },
  {
   "cell_type": "code",
   "execution_count": 66,
   "metadata": {},
   "outputs": [
    {
     "name": "stdout",
     "output_type": "stream",
     "text": [
      "\n",
      "7. UserDict\n",
      "Setting apple to 10\n",
      "{'a': 1, 'b': 2, 'c': 3, 'd': 4}\n"
     ]
    }
   ],
   "source": [
    "# 7. UserDict: Wrapper around dictionary objects for easier dict subclassing\n",
    "print(\"\\n7. UserDict\")\n",
    "class MyDict(collections.UserDict):\n",
    "    def __setitem__(self, key, value):\n",
    "        print(f\"Setting {key} to {value}\")\n",
    "        super().__setitem__(key, value)\n",
    "\n",
    "my_dict = MyDict()\n",
    "my_dict['apple'] = 10\n",
    "\n",
    "from collections import UserDict\n",
    "dic = {'a':1,'b': 2,'c': 3,'d':4}\n",
    "# Creating an UserDict\n",
    "userD = UserDict(dic)\n",
    "print(userD)"
   ]
  },
  {
   "cell_type": "markdown",
   "metadata": {},
   "source": [
    "#### 8. UserList: Wrapper around list objects for easier list subclassing\n"
   ]
  },
  {
   "cell_type": "code",
   "execution_count": 67,
   "metadata": {},
   "outputs": [
    {
     "name": "stdout",
     "output_type": "stream",
     "text": [
      "\n",
      "8. UserList\n",
      "Appending apple\n",
      "[10, 20, 30, 40]\n"
     ]
    }
   ],
   "source": [
    "# 8. UserList: Wrapper around list objects for easier list subclassing\n",
    "print(\"\\n8. UserList\")\n",
    "class MyList(collections.UserList):\n",
    "    def append(self, item):\n",
    "        print(f\"Appending {item}\")\n",
    "        super().append(item)\n",
    "\n",
    "my_list = MyList()\n",
    "my_list.append('apple')\n",
    "\n",
    "# userlist\n",
    "from collections import UserList\n",
    "List1 = [10, 20, 30, 40]\n",
    "# Creating a userlist\n",
    "userlist = UserList(List1)\n",
    "print(userlist.data)"
   ]
  },
  {
   "cell_type": "markdown",
   "metadata": {},
   "source": [
    "#### 9. UserString: Wrapper around string objects for easier string subclassing\n"
   ]
  },
  {
   "cell_type": "code",
   "execution_count": 68,
   "metadata": {},
   "outputs": [
    {
     "name": "stdout",
     "output_type": "stream",
     "text": [
      "\n",
      "9. UserString\n",
      "Converting to uppercase\n",
      "Uppercase string: HELLO\n",
      "[1, 2, 3, 4]\n",
      "type : <class 'collections.UserString'>\n"
     ]
    }
   ],
   "source": [
    "# 9. UserString: Wrapper around string objects for easier string subclassing\n",
    "print(\"\\n9. UserString\")\n",
    "class MyString(collections.UserString):\n",
    "    def upper(self):\n",
    "        print(\"Converting to uppercase\")\n",
    "        return self.data.upper()\n",
    "\n",
    "my_string = MyString(\"hello\")\n",
    "print(f\"Uppercase string: {my_string.upper()}\")\n",
    "\n",
    "from collections import UserString\n",
    "data1 = [1,2,3,4]\n",
    "# Creating an UserDict\n",
    "user_str = UserString(data1)\n",
    "print(user_str)\n",
    "print(\"type :\", type(user_str))"
   ]
  },
  {
   "cell_type": "markdown",
   "metadata": {},
   "source": []
  },
  {
   "cell_type": "code",
   "execution_count": null,
   "metadata": {},
   "outputs": [],
   "source": []
  },
  {
   "cell_type": "markdown",
   "metadata": {},
   "source": []
  },
  {
   "cell_type": "code",
   "execution_count": null,
   "metadata": {},
   "outputs": [],
   "source": []
  },
  {
   "cell_type": "markdown",
   "metadata": {},
   "source": []
  },
  {
   "cell_type": "markdown",
   "metadata": {},
   "source": []
  },
  {
   "cell_type": "markdown",
   "metadata": {},
   "source": []
  },
  {
   "cell_type": "code",
   "execution_count": 16,
   "metadata": {},
   "outputs": [
    {
     "ename": "SyntaxError",
     "evalue": "invalid syntax (2955923234.py, line 1)",
     "output_type": "error",
     "traceback": [
      "\u001b[0;36m  Cell \u001b[0;32mIn[16], line 1\u001b[0;36m\u001b[0m\n\u001b[0;31m    https://www.tutorialspoint.com/python/list_cmp.htm\u001b[0m\n\u001b[0m          ^\u001b[0m\n\u001b[0;31mSyntaxError\u001b[0m\u001b[0;31m:\u001b[0m invalid syntax\n"
     ]
    }
   ],
   "source": [
    "https://www.tutorialspoint.com/python/list_cmp.htm"
   ]
  },
  {
   "cell_type": "code",
   "execution_count": null,
   "metadata": {},
   "outputs": [],
   "source": [
    "https://www.w3schools.com/python/default.asp"
   ]
  },
  {
   "cell_type": "code",
   "execution_count": null,
   "metadata": {},
   "outputs": [],
   "source": [
    "https://github.com/dcavar/python-tutorial-notebooks"
   ]
  },
  {
   "cell_type": "code",
   "execution_count": 34,
   "metadata": {},
   "outputs": [
    {
     "data": {
      "text/plain": [
       "'1231'"
      ]
     },
     "execution_count": 34,
     "metadata": {},
     "output_type": "execute_result"
    }
   ],
   "source": [
    "str(123)+str(1) "
   ]
  }
 ],
 "metadata": {
  "kernelspec": {
   "display_name": "Python 3 (ipykernel)",
   "language": "python",
   "name": "python3"
  },
  "language_info": {
   "codemirror_mode": {
    "name": "ipython",
    "version": 3
   },
   "file_extension": ".py",
   "mimetype": "text/x-python",
   "name": "python",
   "nbconvert_exporter": "python",
   "pygments_lexer": "ipython3",
   "version": "3.10.16"
  }
 },
 "nbformat": 4,
 "nbformat_minor": 4
}
