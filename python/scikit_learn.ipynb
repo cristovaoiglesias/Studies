{
 "cells": [
  {
   "cell_type": "markdown",
   "id": "a1eb9748-5a68-4f83-865f-6de34fb88af5",
   "metadata": {},
   "source": [
    "# Scikit_learn\n",
    "\n",
    "- https://www.tutorialspoint.com/scikit_learn/index.htm"
   ]
  }
 ],
 "metadata": {
  "kernelspec": {
   "display_name": "Python 3 (ipykernel)",
   "language": "python",
   "name": "python3"
  },
  "language_info": {
   "codemirror_mode": {
    "name": "ipython",
    "version": 3
   },
   "file_extension": ".py",
   "mimetype": "text/x-python",
   "name": "python",
   "nbconvert_exporter": "python",
   "pygments_lexer": "ipython3",
   "version": "3.10.16"
  }
 },
 "nbformat": 4,
 "nbformat_minor": 5
}
